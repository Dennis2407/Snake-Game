{
 "cells": [
  {
   "cell_type": "code",
   "execution_count": 1,
   "id": "a1c19d71",
   "metadata": {},
   "outputs": [
    {
     "name": "stdout",
     "output_type": "stream",
     "text": [
      "pygame 2.1.2 (SDL 2.0.18, Python 3.9.7)\n",
      "Hello from the pygame community. https://www.pygame.org/contribute.html\n"
     ]
    }
   ],
   "source": [
    "import pygame as pg\n"
   ]
  },
  {
   "cell_type": "code",
   "execution_count": 11,
   "id": "5d1b081e",
   "metadata": {},
   "outputs": [
    {
     "ename": "IndentationError",
     "evalue": "unindent does not match any outer indentation level (<tokenize>, line 10)",
     "output_type": "error",
     "traceback": [
      "\u001b[1;36m  File \u001b[1;32m\"<tokenize>\"\u001b[1;36m, line \u001b[1;32m10\u001b[0m\n\u001b[1;33m    segments = segments[apple != head:] + [head + step]\u001b[0m\n\u001b[1;37m    ^\u001b[0m\n\u001b[1;31mIndentationError\u001b[0m\u001b[1;31m:\u001b[0m unindent does not match any outer indentation level\n"
     ]
    }
   ],
   "source": [
    "import pygame as pg\n",
    "\n",
    "y, step, head = segments =[15, 16, 17]\n",
    "n, apple = step, 99\n",
    "screen_fill = pg.display.set_mode([225] * 2, pg.SCALED).fill \n",
    "\n",
    "while segments.count(head) % 2 * head % n * (head & 240):\n",
    "    if e := pg.event.get(768):\n",
    "            step = (e[0].key % 4 * 17 + 15) % 49 - n\n",
    "        segments = segments[apple != head:] + [head + step]\n",
    "        \n",
    "        screen_fill('black')\n",
    "        if apple == head:\n",
    "            apple = segments[0]\n",
    "        for i, v in enumerate([apple] + segments):\n",
    "            screen_fill('green' if i else 'red', \n",
    "                        ((v-1) % n * y, (v - n) // n * y, y, y))\n",
    "            pg.display.flip()\n",
    "            head += step\n",
    "            pg.time.wait(100)\n",
    "            \n",
    "\n"
   ]
  },
  {
   "cell_type": "code",
   "execution_count": null,
   "id": "50d74091",
   "metadata": {},
   "outputs": [],
   "source": []
  }
 ],
 "metadata": {
  "kernelspec": {
   "display_name": "Python 3 (ipykernel)",
   "language": "python",
   "name": "python3"
  },
  "language_info": {
   "codemirror_mode": {
    "name": "ipython",
    "version": 3
   },
   "file_extension": ".py",
   "mimetype": "text/x-python",
   "name": "python",
   "nbconvert_exporter": "python",
   "pygments_lexer": "ipython3",
   "version": "3.9.7"
  }
 },
 "nbformat": 4,
 "nbformat_minor": 5
}
